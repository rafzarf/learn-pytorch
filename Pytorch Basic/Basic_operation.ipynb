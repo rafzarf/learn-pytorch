{
 "cells": [
  {
   "attachments": {},
   "cell_type": "markdown",
   "metadata": {},
   "source": [
    "### Basic Operations in Pytorch Tensor"
   ]
  },
  {
   "attachments": {},
   "cell_type": "markdown",
   "metadata": {},
   "source": [
    "#### Mengimport library dan dependencies"
   ]
  },
  {
   "cell_type": "code",
   "execution_count": 2,
   "metadata": {
    "vscode": {
     "languageId": "python"
    }
   },
   "outputs": [],
   "source": [
    "import torch"
   ]
  },
  {
   "attachments": {},
   "cell_type": "markdown",
   "metadata": {
    "vscode": {
     "languageId": "python"
    }
   },
   "source": [
    "#### Membuat variabel baru bertipe tensor"
   ]
  },
  {
   "cell_type": "code",
   "execution_count": 3,
   "metadata": {
    "vscode": {
     "languageId": "python"
    }
   },
   "outputs": [
    {
     "name": "stdout",
     "output_type": "stream",
     "text": [
      "tensor([[3.4004e-06, 2.0972e-07, 8.1929e-10, 3.3234e-09],\n",
      "        [4.2698e-08, 2.0803e+23, 6.9062e-07, 2.1259e+20]])\n"
     ]
    }
   ],
   "source": [
    "# Empty variabel dengan ukuran 2,4\n",
    "emptyvar = torch.empty(2, 4)\n",
    "print(emptyvar)"
   ]
  },
  {
   "cell_type": "code",
   "execution_count": 4,
   "metadata": {
    "vscode": {
     "languageId": "python"
    }
   },
   "outputs": [
    {
     "name": "stdout",
     "output_type": "stream",
     "text": [
      "tensor([[[0.8136, 0.5679, 0.1600, 0.7514],\n",
      "         [0.3811, 0.2534, 0.0329, 0.9424],\n",
      "         [0.8321, 0.7647, 0.8617, 0.5069]],\n",
      "\n",
      "        [[0.8234, 0.4432, 0.1782, 0.3337],\n",
      "         [0.2203, 0.2519, 0.1866, 0.5912],\n",
      "         [0.6606, 0.4317, 0.9455, 0.8771]]])\n"
     ]
    }
   ],
   "source": [
    "# Variabel random dengan ukuran 2, 3, 4\n",
    "randomvar = torch.rand(2, 3, 4)\n",
    "print(randomvar)"
   ]
  },
  {
   "cell_type": "code",
   "execution_count": 5,
   "metadata": {
    "vscode": {
     "languageId": "python"
    }
   },
   "outputs": [
    {
     "name": "stdout",
     "output_type": "stream",
     "text": [
      "tensor([[[1., 1., 1., 1.],\n",
      "         [1., 1., 1., 1.],\n",
      "         [1., 1., 1., 1.]],\n",
      "\n",
      "        [[1., 1., 1., 1.],\n",
      "         [1., 1., 1., 1.],\n",
      "         [1., 1., 1., 1.]]])\n",
      "tensor([[[0., 0., 0., 0.],\n",
      "         [0., 0., 0., 0.],\n",
      "         [0., 0., 0., 0.]],\n",
      "\n",
      "        [[0., 0., 0., 0.],\n",
      "         [0., 0., 0., 0.],\n",
      "         [0., 0., 0., 0.]]])\n"
     ]
    }
   ],
   "source": [
    "# Variabel Tensor dengan nilai 1 ukuran 2, 3, 4\n",
    "onesvar = torch.ones(2, 3, 4)\n",
    "print(onesvar)\n",
    "\n",
    "# Variabel Tensor dengan nilai 0 ukuran 2, 3, 4\n",
    "zerosvar = torch.zeros(2, 3, 4)\n",
    "print(zerosvar)"
   ]
  },
  {
   "cell_type": "code",
   "execution_count": 6,
   "metadata": {
    "vscode": {
     "languageId": "python"
    }
   },
   "outputs": [
    {
     "name": "stdout",
     "output_type": "stream",
     "text": [
      "tensor([ 0.,  1.,  2.,  3.,  4.,  5.,  6.,  7.,  8.,  9., 10., 11.])\n",
      "tensor([ 0.,  2.,  4.,  6.,  8., 10.])\n"
     ]
    }
   ],
   "source": [
    "# Membuat variabel tensor yang berurut sejumlah n dari x hingga y\n",
    "range = torch.arange(12, dtype=torch.float32)\n",
    "range2 = torch.arange(0, 12, 2, dtype=torch.float32)\n",
    "\n",
    "print(range)\n",
    "print(range2)"
   ]
  },
  {
   "attachments": {},
   "cell_type": "markdown",
   "metadata": {},
   "source": [
    "#### Membuat Variabel tensor dengan tipe data spesifik"
   ]
  },
  {
   "cell_type": "code",
   "execution_count": 7,
   "metadata": {
    "vscode": {
     "languageId": "python"
    }
   },
   "outputs": [
    {
     "name": "stdout",
     "output_type": "stream",
     "text": [
      "tensor([[1, 1],\n",
      "        [1, 1]], dtype=torch.int32) tensor([[0.4161, 0.2164],\n",
      "        [0.0767, 0.4982]])\n",
      "torch.int32 torch.float32\n",
      "torch.Size([2, 2]) torch.Size([2, 2])\n"
     ]
    }
   ],
   "source": [
    "# Integer\n",
    "intvar = torch.ones(2, 2, dtype=torch.int)\n",
    "# float\n",
    "floatvar = torch.rand(2, 2, dtype=torch.float32)\n",
    "\n",
    "print(intvar, floatvar)\n",
    "print(intvar.dtype, floatvar.dtype)\n",
    "print(intvar.size(),floatvar.size())"
   ]
  },
  {
   "attachments": {},
   "cell_type": "markdown",
   "metadata": {},
   "source": [
    "#### Operasi Aritmatika dasar pada Tensor"
   ]
  },
  {
   "cell_type": "code",
   "execution_count": 8,
   "metadata": {
    "vscode": {
     "languageId": "python"
    }
   },
   "outputs": [
    {
     "name": "stdout",
     "output_type": "stream",
     "text": [
      "tensor([[ 2,  4,  6],\n",
      "        [ 8, 10, 12]])\n"
     ]
    }
   ],
   "source": [
    "# mengisi tensor dengan nilai \n",
    "var_a = torch.tensor([[1, 2, 3], [4, 5, 6]])\n",
    "var_b = torch.tensor([[1, 2, 3], [4, 5, 6]])\n",
    "# Operasi artimatika\n",
    "var_c = var_a + var_b\n",
    "print(var_c)"
   ]
  },
  {
   "attachments": {},
   "cell_type": "markdown",
   "metadata": {},
   "source": [
    "#### Cara Lain menjumlah "
   ]
  },
  {
   "cell_type": "code",
   "execution_count": 9,
   "metadata": {
    "vscode": {
     "languageId": "python"
    }
   },
   "outputs": [
    {
     "name": "stdout",
     "output_type": "stream",
     "text": [
      "tensor([[ 2,  4,  6],\n",
      "        [ 8, 10, 12]])\n",
      "tensor([[ 2,  4,  6],\n",
      "        [ 8, 10, 12]])\n"
     ]
    }
   ],
   "source": [
    "var_c = torch.add(var_a, var_b)\n",
    "print(var_c)\n",
    "\n",
    "# cara lain pada variabel yang sama (in-place operation)\n",
    "var_a.add_(var_b)\n",
    "print(var_a)"
   ]
  },
  {
   "attachments": {},
   "cell_type": "markdown",
   "metadata": {},
   "source": [
    "#### Operasi artimatika Lainnya"
   ]
  },
  {
   "cell_type": "code",
   "execution_count": 10,
   "metadata": {
    "vscode": {
     "languageId": "python"
    }
   },
   "outputs": [
    {
     "name": "stdout",
     "output_type": "stream",
     "text": [
      "tensor([[0.2229, 0.3539],\n",
      "        [0.2027, 0.5441]]) tensor([[0.2229, 0.3539],\n",
      "        [0.2027, 0.5441]]) tensor([[1.3828, 1.2127],\n",
      "        [3.1692, 0.6696]]) tensor([[1.3828, 1.2127],\n",
      "        [3.1692, 0.6696]]) tensor([[ 0.1537,  0.1149],\n",
      "        [ 0.5486, -0.2979]]) tensor([[ 0.1537,  0.1149],\n",
      "        [ 0.5486, -0.2979]]) tensor([[0.7896, 0.7957],\n",
      "        [0.9456, 0.6344]]) tensor([[0.7896, 0.7957],\n",
      "        [0.9456, 0.6344]])\n"
     ]
    }
   ],
   "source": [
    "x = torch.rand(2, 2)\n",
    "y = torch.rand(2, 2)\n",
    "\n",
    "# dot product\n",
    "z_kali = x * y\n",
    "z_kali_2 = torch.mul(x, y)\n",
    "\n",
    "z_frac = x / y\n",
    "z_frac_2 = torch.div(x, y)\n",
    "\n",
    "z_kurang = x - y\n",
    "z_kurang_2 = torch.sub(x, y)\n",
    "\n",
    "z_pangkat = x**y\n",
    "z_pangkat_2 = torch.pow(x, y)\n",
    "\n",
    "print(z_kali, z_kali_2, z_frac, z_frac_2, z_kurang, z_kurang_2, z_pangkat, z_pangkat_2)"
   ]
  },
  {
   "attachments": {},
   "cell_type": "markdown",
   "metadata": {},
   "source": [
    "#### Manipulasi Matriks"
   ]
  },
  {
   "cell_type": "code",
   "execution_count": 11,
   "metadata": {
    "vscode": {
     "languageId": "python"
    }
   },
   "outputs": [
    {
     "name": "stdout",
     "output_type": "stream",
     "text": [
      "tensor([[0.9149, 0.9622, 0.5024],\n",
      "        [0.9539, 0.7438, 0.8093],\n",
      "        [0.6001, 0.2999, 0.0226],\n",
      "        [0.6113, 0.4384, 0.2521],\n",
      "        [0.0305, 0.8634, 0.9894]])\n",
      "tensor([0.9149, 0.9539, 0.6001, 0.6113, 0.0305])\n",
      "tensor([0.9149, 0.9622, 0.5024])\n",
      "tensor(0.7438)\n",
      "0.7437773942947388\n"
     ]
    }
   ],
   "source": [
    "x = torch.rand(5, 3)\n",
    "print(x)\n",
    "print(x[:, 0])  # mencetak hanya kolom pertama\n",
    "print(x[0, :])  # mencetak hanya baris pertama\n",
    "print(x[1, 1])  # mencetak nilai pada baris ke-1 dan kolom ke-1\n",
    "print(x[1, 1].item())  # mencetak hanya nilai (tanpa identitas jenis tensor)"
   ]
  },
  {
   "attachments": {},
   "cell_type": "markdown",
   "metadata": {},
   "source": [
    "### Reshaping Matriks\n",
    "Mengubah matriks 2 dimensi menjadi array 1 dimensi\n"
   ]
  },
  {
   "cell_type": "code",
   "execution_count": 12,
   "metadata": {
    "vscode": {
     "languageId": "python"
    }
   },
   "outputs": [
    {
     "name": "stdout",
     "output_type": "stream",
     "text": [
      "tensor([[0.8289, 0.1950, 0.3957, 0.1228],\n",
      "        [0.0808, 0.6138, 0.6769, 0.9860],\n",
      "        [0.8775, 0.8455, 0.8615, 0.9559],\n",
      "        [0.0615, 0.4320, 0.2414, 0.8800]])\n",
      "torch.Size([4, 4])\n",
      "tensor([0.8289, 0.1950, 0.3957, 0.1228, 0.0808, 0.6138, 0.6769, 0.9860, 0.8775,\n",
      "        0.8455, 0.8615, 0.9559, 0.0615, 0.4320, 0.2414, 0.8800])\n",
      "torch.Size([16])\n"
     ]
    }
   ],
   "source": [
    "x = torch.rand(4, 4)\n",
    "print(x)\n",
    "print(x.shape)\n",
    "y = x.view(16)\n",
    "print(y)\n",
    "print(y.shape)"
   ]
  },
  {
   "cell_type": "code",
   "execution_count": 13,
   "metadata": {
    "vscode": {
     "languageId": "python"
    }
   },
   "outputs": [
    {
     "name": "stdout",
     "output_type": "stream",
     "text": [
      "tensor([[0.8289, 0.1950, 0.3957, 0.1228, 0.0808, 0.6138, 0.6769, 0.9860],\n",
      "        [0.8775, 0.8455, 0.8615, 0.9559, 0.0615, 0.4320, 0.2414, 0.8800]])\n",
      "torch.Size([2, 8])\n"
     ]
    }
   ],
   "source": [
    "y = x.view(-1, 8) \n",
    "print(y)\n",
    "print(y.shape)\n",
    "# --- nilai -1 pada fungsi `view`` menandakan dimensi pertama otomatis mengikuti bentuk tensor awal, \n",
    "# dalam hal ini karena data ada 4*4 = 16 elemen, maka dimensi pertama menjadi 16/8 = 2"
   ]
  },
  {
   "cell_type": "code",
   "execution_count": 14,
   "metadata": {
    "vscode": {
     "languageId": "python"
    }
   },
   "outputs": [
    {
     "name": "stdout",
     "output_type": "stream",
     "text": [
      "tensor([[[0.9778, 0.2102, 0.9020, 0.7063, 0.3360],\n",
      "         [0.7579, 0.2619, 0.8039, 0.5702, 0.6716],\n",
      "         [0.1489, 0.2137, 0.6321, 0.9269, 0.8876],\n",
      "         [0.2440, 0.0391, 0.9847, 0.9533, 0.3723]],\n",
      "\n",
      "        [[0.5301, 0.5880, 0.3839, 0.7577, 0.0830],\n",
      "         [0.3975, 0.5054, 0.7667, 0.3918, 0.0139],\n",
      "         [0.5252, 0.3967, 0.3626, 0.9380, 0.1299],\n",
      "         [0.4637, 0.6913, 0.5694, 0.5506, 0.9478]]])\n",
      "tensor([[0.9778, 0.2102, 0.9020, 0.7063, 0.3360],\n",
      "        [0.7579, 0.2619, 0.8039, 0.5702, 0.6716],\n",
      "        [0.1489, 0.2137, 0.6321, 0.9269, 0.8876],\n",
      "        [0.2440, 0.0391, 0.9847, 0.9533, 0.3723],\n",
      "        [0.5301, 0.5880, 0.3839, 0.7577, 0.0830],\n",
      "        [0.3975, 0.5054, 0.7667, 0.3918, 0.0139],\n",
      "        [0.5252, 0.3967, 0.3626, 0.9380, 0.1299],\n",
      "        [0.4637, 0.6913, 0.5694, 0.5506, 0.9478]])\n"
     ]
    }
   ],
   "source": [
    "x = torch.rand(2, 4, 5)\n",
    "print(x)\n",
    "\n",
    "x_new = x.view(8, -1)\n",
    "print(x_new)"
   ]
  },
  {
   "cell_type": "code",
   "execution_count": 15,
   "metadata": {
    "vscode": {
     "languageId": "python"
    }
   },
   "outputs": [
    {
     "name": "stdout",
     "output_type": "stream",
     "text": [
      "tensor([ 6.,  9., 12., 15., 18., 21., 24., 27., 30., 33., 36., 39., 42., 45.,\n",
      "        48., 51., 54., 57., 60., 63., 66., 69., 72., 75., 78., 81., 84., 87.,\n",
      "        90., 93., 96., 99.])\n",
      "torch.Size([32])\n",
      "tensor([[ 6.,  9., 12., 15., 18., 21., 24., 27.],\n",
      "        [30., 33., 36., 39., 42., 45., 48., 51.],\n",
      "        [54., 57., 60., 63., 66., 69., 72., 75.],\n",
      "        [78., 81., 84., 87., 90., 93., 96., 99.]])\n"
     ]
    }
   ],
   "source": [
    "x = torch.arange(6, 100, 3, dtype=torch.float32)\n",
    "print(x)\n",
    "print(x.size())\n",
    "\n",
    "x_new = x.reshape(4,8)\n",
    "print(x_new)\n",
    "\n",
    "# perlu diingat bahwa target reshape harus sama dengan jumlah elemen yang ada pada tensor awal"
   ]
  },
  {
   "attachments": {},
   "cell_type": "markdown",
   "metadata": {},
   "source": [
    "### Konversi dari Numpy ke Tensor"
   ]
  },
  {
   "cell_type": "code",
   "execution_count": 16,
   "metadata": {
    "vscode": {
     "languageId": "python"
    }
   },
   "outputs": [
    {
     "name": "stdout",
     "output_type": "stream",
     "text": [
      "tensor([1., 1., 1., 1., 1.])\n",
      "[1. 1. 1. 1. 1.]\n",
      "<class 'numpy.ndarray'>\n"
     ]
    }
   ],
   "source": [
    "import numpy as np\n",
    "\n",
    "a = torch.ones(5)\n",
    "print(a)\n",
    "\n",
    "b = a.numpy()\n",
    "print(b)\n",
    "print(type(b))"
   ]
  },
  {
   "cell_type": "code",
   "execution_count": 17,
   "metadata": {
    "vscode": {
     "languageId": "python"
    }
   },
   "outputs": [
    {
     "name": "stdout",
     "output_type": "stream",
     "text": [
      "tensor([2., 2., 2., 2., 2.])\n",
      "[2. 2. 2. 2. 2.]\n"
     ]
    }
   ],
   "source": [
    "a.add_(1)\n",
    "print(a)\n",
    "print(b)"
   ]
  },
  {
   "cell_type": "code",
   "execution_count": 18,
   "metadata": {
    "vscode": {
     "languageId": "python"
    }
   },
   "outputs": [
    {
     "name": "stdout",
     "output_type": "stream",
     "text": [
      "[1. 1. 1. 1. 1.]\n",
      "tensor([1., 1., 1., 1., 1.], dtype=torch.float64)\n",
      "[2. 2. 2. 2. 2.]\n",
      "tensor([1., 1., 1., 1., 1.], dtype=torch.float64)\n",
      "<class 'torch.Tensor'>\n"
     ]
    }
   ],
   "source": [
    "a = np.ones(5)\n",
    "print(a)\n",
    "b = torch.from_numpy(a)\n",
    "print(b)\n",
    "\n",
    "a = a + 1\n",
    "print(a)\n",
    "print(b)\n",
    "print(type(b))"
   ]
  },
  {
   "attachments": {},
   "cell_type": "markdown",
   "metadata": {},
   "source": [
    "#### Operasi dengan GPU"
   ]
  },
  {
   "cell_type": "code",
   "execution_count": 19,
   "metadata": {
    "vscode": {
     "languageId": "python"
    }
   },
   "outputs": [
    {
     "name": "stdout",
     "output_type": "stream",
     "text": [
      "False\n"
     ]
    }
   ],
   "source": [
    "print(torch.cuda.is_available())\n",
    "if torch.cuda.is_available():\n",
    "    # Mengatur nama device sebagai variabel\n",
    "    device = torch.device(\"cuda\")\n",
    "    # Membuat variabel tensor yang menggunakan device\n",
    "    x = torch.ones(5, device=device)\n",
    "\n",
    "    # Memindahkan variable yang sudah dibuat sebelumnya ke device\n",
    "    y = torch.ones(5)\n",
    "    y = y.to(device)\n",
    "\n",
    "    # Memindahkan kembali ke CPU\n",
    "    x = x.to(\"cpu\")"
   ]
  },
  {
   "cell_type": "code",
   "execution_count": 20,
   "metadata": {
    "vscode": {
     "languageId": "python"
    }
   },
   "outputs": [
    {
     "name": "stdout",
     "output_type": "stream",
     "text": [
      "tensor([[1., 1.],\n",
      "        [1., 1.]], requires_grad=True)\n"
     ]
    }
   ],
   "source": [
    "x = torch.ones(2, 2, requires_grad=True) # memungkinkan pytorch untuk menghitung gradient secara otomatis\n",
    "print(x)"
   ]
  }
 ],
 "metadata": {
  "kernelspec": {
   "display_name": "Python 3 (ipykernel)",
   "language": "python",
   "name": "python3"
  },
  "orig_nbformat": 4
 },
 "nbformat": 4,
 "nbformat_minor": 2
}
